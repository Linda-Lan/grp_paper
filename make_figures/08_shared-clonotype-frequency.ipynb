{
 "cells": [
  {
   "cell_type": "markdown",
   "metadata": {},
   "source": [
    "# Shared clonotype frequency\n",
    "\n",
    "In this notebook, we're going to make the following figure panels:\n",
    "\n",
    "  * Probability of observed repertoire overlap (lower half of **Figure 3a**)\n",
    "  * Shared clonotypes in observed and synthetic repertoires (**Figure 3b**)\n",
    "\n",
    "The following Python packages are required to run the code in this notebook:\n",
    "  * matplotlib\n",
    "  * numpy\n",
    "  * pandas\n",
    "  * scipy\n",
    "  * seaborn\n",
    "  * [abutils](https://github.com/briney/abutils)\n",
    "\n",
    "They can be install by running `pip install matplotlib numpy pandas scipy seaborn abutils`\n",
    "\n",
    "*NOTE: this notebook requires the use of the Unix command line tool `wc`. Thus, it requires a Unix-based operating system to run correctly (MacOS and most flavors of Linux should be fine). Running this notebook on Windows 10 may be possible using the [Windows Subsystem for Linux](https://docs.microsoft.com/en-us/windows/wsl/about) but we have not tested this.*"
   ]
  },
  {
   "cell_type": "code",
   "execution_count": 2,
   "metadata": {},
   "outputs": [],
   "source": [
    "from __future__ import print_function\n",
    "\n",
    "from collections import Counter\n",
    "import itertools\n",
    "import multiprocessing as mp\n",
    "import os\n",
    "import subprocess as sp\n",
    "import sys\n",
    "\n",
    "import seaborn as sns\n",
    "import matplotlib.pyplot as plt\n",
    "\n",
    "import numpy as np\n",
    "import pandas as pd\n",
    "\n",
    "from scipy.stats import hypergeom\n",
    "\n",
    "from abutils.utils.jobs import monitor_mp_jobs\n",
    "from abutils.utils.pipeline import list_files, make_dir\n",
    "from abutils.utils.progbar import progress_bar\n",
    "\n",
    "%matplotlib inline"
   ]
  },
  {
   "cell_type": "markdown",
   "metadata": {},
   "source": [
    "### Subjects"
   ]
  },
  {
   "cell_type": "code",
   "execution_count": 3,
   "metadata": {},
   "outputs": [],
   "source": [
    "with open('../data_processing/data/subjects.txt') as f:\n",
    "    subjects = f.read().split()"
   ]
  },
  {
   "cell_type": "markdown",
   "metadata": {},
   "source": [
    "### Probability of observed repertoire overlap\n",
    "\n",
    "To compute the statistical likelihood of the observed level of repertoire overlap given the total size of the repertoire and the depth at which each sample was sampled, we'll construct a hypergeometric distribution. We can then sum the probabilities for all levels of repertoire overlap equal to or greater than the observed overlap."
   ]
  },
  {
   "cell_type": "code",
   "execution_count": 4,
   "metadata": {},
   "outputs": [],
   "source": [
    "def chao2(counts, m):\n",
    "    m = float(m)\n",
    "    s_obs = sum([float(c) for c in counts.values()])\n",
    "    q1 = float(counts['1'])\n",
    "    q2 = float(counts['2'])\n",
    "    return s_obs + ((m - 1) / m) * ((q1 * (q1 - 1)) / (2 * (q2 + 1)))\n",
    "\n",
    "\n",
    "def compute_overlap_probability(s1, s2, div):\n",
    "    s1_count = 0\n",
    "    with open('../data_processing/data/cross-subject_clonotype_duplicate-counts/{}_occurrence-counts.txt'.format(s1)) as f:\n",
    "        for line in f:\n",
    "            if not line.strip():\n",
    "                continue\n",
    "            obs, count = line.split()\n",
    "            s1_count += int(obs) * int(count)\n",
    "    s2_count = 0\n",
    "    with open('../data_processing/data/cross-subject_clonotype_duplicate-counts/{}_occurrence-counts.txt'.format(s2)) as f:\n",
    "        for line in f:\n",
    "            if not line.strip():\n",
    "                continue\n",
    "            obs, count = line.split()\n",
    "            s2_count += int(obs) * int(count)\n",
    "    shared_counts = {}\n",
    "    with open('../data_processing/data/cross-subject_clonotype_duplicate-counts/{}-{}_occurrence-counts.txt'.format(*sorted([s1, s2]))) as f:\n",
    "        for line in f:\n",
    "            if not line.strip():\n",
    "                continue\n",
    "            obs, count = line.split()\n",
    "            shared_counts[obs] = int(count)\n",
    "    rv = hypergeom(div, max(s1_count, s2_count), min(s1_count, s2_count))\n",
    "    pmfs = list(rv.pmf(range(shared_counts['2'])))\n",
    "    prob = 1 - sum(pmfs[:-1])\n",
    "    return {'probability': prob, 'subject': s1, 'subject2': s2}"
   ]
  },
  {
   "cell_type": "markdown",
   "metadata": {},
   "source": [
    "First, we need to calculate the total cross-subject diversity (all 10 subjects)"
   ]
  },
  {
   "cell_type": "code",
   "execution_count": 5,
   "metadata": {},
   "outputs": [],
   "source": [
    "all_shared_counts = {}\n",
    "with open('../data_processing/data/cross-subject_clonotype_duplicate-counts/{}_occurrence-counts.txt'.format('-'.join(subjects))) as f:\n",
    "    for line in f:\n",
    "        if not line.strip():\n",
    "            continue\n",
    "        obs, count = line.split()\n",
    "        all_shared_counts[obs] = int(count)\n",
    "div = chao2(all_shared_counts, 10)"
   ]
  },
  {
   "cell_type": "markdown",
   "metadata": {},
   "source": [
    "Next we calculate the probabilty of the observed overlap between each pair of subjects, and convert the probabilities to a DataFrame"
   ]
  },
  {
   "cell_type": "code",
   "execution_count": 6,
   "metadata": {},
   "outputs": [],
   "source": [
    "probs = []\n",
    "for i, s1 in enumerate(subjects):\n",
    "    for s2 in subjects[i + 1:]:\n",
    "        probs.append(compute_overlap_probability(s1, s2, div))\n",
    "\n",
    "prob_df = pd.DataFrame(probs)"
   ]
  },
  {
   "cell_type": "markdown",
   "metadata": {},
   "source": [
    "Finally, we plot the probabilities on a horizontal scatterplot. If you'd like to save the figure rather than just showing inline, comment out the `plt.show()` line and uncomment the last line (beginning with `plt.savefig`) and alter the figure path if desired."
   ]
  },
  {
   "cell_type": "code",
   "execution_count": 71,
   "metadata": {},
   "outputs": [
    {
     "data": {
      "image/png": "[encoded data removed]",
      "text/plain": [
       "<matplotlib.figure.Figure at 0x1a1646a630>"
      ]
     },
     "metadata": {},
     "output_type": "display_data"
    }
   ],
   "source": [
    "sns.set_style('white')\n",
    "plt.figure(figsize=(6, 1.35))\n",
    "\n",
    "# plot the data\n",
    "sns.stripplot(x=prob_df['probability'], y=['2-subject\\nsharing'] * len(prob_df['probability']), jitter=0.15, alpha=0.65, color='k')\n",
    "\n",
    "# draw a vertical line at the mean\n",
    "plt.axvline(x=prob_df['probability'].mean(), ymin=0.2, ymax=0.8, linewidth=2, color='k', alpha=0.8)\n",
    "\n",
    "# plot the Bonferroni-corrected value for p=0.05\n",
    "corrected_pval = 0.05 / 45\n",
    "plt.axvline(x=corrected_pval, ymin=0, ymax=5, linewidth=1, color='gray', linestyle='dashed')\n",
    "plt.text(corrected_pval - 0.15 * corrected_pval, 0.075, 'Bonferroni-adjusted\\np=0.05', ha='right', color='gray', fontsize=12)\n",
    "\n",
    "# style the plot\n",
    "ax = plt.gca()\n",
    "ax.set_xscale('log')\n",
    "ax.set_xlim(10**-7, 2 * 10**-3)\n",
    "ax.tick_params(axis='x', which='minor', bottom='on', top='off', direction='out', length=4)\n",
    "ax.tick_params(axis='x', which='major', bottom='on', top='off', direction='out', labelsize=12,\n",
    "               length=6, pad=-3, width=1.25)\n",
    "ax.tick_params(axis='y', which='major', labelsize=0, length=0, width=1.25, pad=0, right=False)\n",
    "ax.spines['top'].set_visible(False)\n",
    "ax.spines['right'].set_visible(False)\n",
    "ax.spines['left'].set_visible(False)\n",
    "plt.ylabel('', size=0, labelpad=0)\n",
    "plt.xlabel('Probability of observed clonotype sharing frequency', size=14, labelpad=0)\n",
    "\n",
    "# save or show\n",
    "plt.tight_layout()\n",
    "plt.show()\n",
    "# plt.savefig('./random-sharing-probability_horiz-scatterplot.pdf', transparent=True)"
   ]
  },
  {
   "cell_type": "markdown",
   "metadata": {},
   "source": [
    "### Total clonotype counts"
   ]
  },
  {
   "cell_type": "code",
   "execution_count": 7,
   "metadata": {},
   "outputs": [],
   "source": [
    "def get_clonotype_counts(sample_size_file):\n",
    "    sample_sizes = {}\n",
    "    with open(sample_size_file) as f:\n",
    "        for line in f:\n",
    "            if line.strip():\n",
    "                sample, size = line.strip().split()\n",
    "                sample_sizes[sample] = int(size)\n",
    "    return sample_sizes"
   ]
  },
  {
   "cell_type": "code",
   "execution_count": 8,
   "metadata": {},
   "outputs": [],
   "source": [
    "sample_sizes = get_clonotype_counts('../data_processing/data/shared_clonotypes/subject_sizes.txt')\n",
    "sample_sizes_synthetic_default = get_clonotype_counts('../data_processing/data/shared_clonotypes/subject_sizes_synthetic_default-model.txt')\n",
    "sample_sizes_synthetic_subject_specific = get_clonotype_counts('../data_processing/data/shared_clonotypes/subject_sizes_synthetic_subject-specific-models.txt')"
   ]
  },
  {
   "cell_type": "markdown",
   "metadata": {},
   "source": [
    "### Shared clonotype frequencies"
   ]
  },
  {
   "cell_type": "code",
   "execution_count": 9,
   "metadata": {},
   "outputs": [],
   "source": [
    "def get_frequencies(shared_files, sample_sizes):\n",
    "    frequencies = []\n",
    "    for of in shared_files:\n",
    "        subjects = os.path.basename(of).split('_')[0].split('-')\n",
    "        if len(subjects) == 1:\n",
    "            continue\n",
    "        smallest = min([v for k, v in sample_sizes.items() if k in subjects])\n",
    "        min_freq = str(len(subjects))\n",
    "        with open(of) as f:\n",
    "            for line in f:\n",
    "                if not line.strip():\n",
    "                    continue\n",
    "                if line.strip().split()[0] == min_freq:\n",
    "                    count = int(line.strip().split()[1])\n",
    "                    break\n",
    "        freq = 1. * count / smallest\n",
    "        frequencies.append({'Clonotype overlap (subjects)': int(min_freq), 'Frequency (%)': freq})\n",
    "    freq_df = pd.DataFrame(frequencies)\n",
    "    return freq_df"
   ]
  },
  {
   "cell_type": "code",
   "execution_count": 10,
   "metadata": {},
   "outputs": [],
   "source": [
    "freq_df = get_frequencies(list_files('../data_processing/data/cross-subject_clonotype_duplicate-counts/'),\n",
    "                          sample_sizes)\n",
    "\n",
    "dsynth_freq_df = get_frequencies(list_files('../data_processing/data/cross-subject_synthetic_default-model_duplicate-counts/'),\n",
    "                                 sample_sizes_synthetic_default)\n",
    "\n",
    "ssynth_freq_df = get_frequencies(list_files('../data_processing/data/cross-subject_synthetic_subject-specific-models_duplicate-counts/'),\n",
    "                                 sample_sizes_synthetic_subject_specific)"
   ]
  },
  {
   "cell_type": "markdown",
   "metadata": {},
   "source": [
    "If you'd like to save the figure rather than just showing inline, comment out the `plt.show()` line and uncomment the last line (beginning with `plt.savefig`) and alter the figure path if desired."
   ]
  },
  {
   "cell_type": "code",
   "execution_count": 16,
   "metadata": {},
   "outputs": [
    {
     "data": {
      "image/png": "[encoded data removed]",
      "text/plain": [
       "<matplotlib.figure.Figure at 0x1a0de8d400>"
      ]
     },
     "metadata": {},
     "output_type": "display_data"
    }
   ],
   "source": [
    "sns.set_style('white')\n",
    "plt.figure(figsize=(3.5, 6))\n",
    "\n",
    "sns.stripplot(data=freq_df, x='Frequency (%)', y='Clonotype overlap (subjects)',\n",
    "              orient='h', color='k',\n",
    "              jitter=0.15, size=7, alpha=0.25)\n",
    "\n",
    "sns.stripplot(data=dsynth_freq_df, x='Frequency (%)', y='Clonotype overlap (subjects)',\n",
    "              orient='h', color='r',\n",
    "              jitter=0.15, size=7, alpha=0.2)\n",
    "\n",
    "sns.stripplot(data=ssynth_freq_df, x='Frequency (%)', y='Clonotype overlap (subjects)',\n",
    "              orient='h', color='b',\n",
    "              jitter=0.15, size=7, alpha=0.2)\n",
    "\n",
    "# axis labels\n",
    "plt.xlabel('Shared clonotype frequency', size=14, labelpad=4)\n",
    "plt.ylabel('Number of shared subjects', size=14, labelpad=4)\n",
    "\n",
    "# layout parameters\n",
    "ax = plt.gca()\n",
    "ax.set_xlim([0.00001, .04])\n",
    "ax.set_xscale('log')\n",
    "ax.tick_params(axis='x', which='minor', bottom='on', top='off', direction='out', length=4)\n",
    "ax.tick_params(axis='x', which='major', bottom='on', top='off', direction='out', labelsize=12,\n",
    "               length=6, pad=0, width=1.25)\n",
    "ax.tick_params(axis='y', which='major', labelsize=12, length=6, width=1.25, pad=12, right=False)\n",
    "ax.spines['top'].set_visible(False)\n",
    "ax.spines['right'].set_visible(False)\n",
    "ax.spines['left'].set_visible(False)\n",
    "\n",
    "# plot the legend\n",
    "lobs = plt.Line2D([], [], color='k', marker='o', linestyle='', markersize=7, label='observed')\n",
    "ldsynth = plt.Line2D([], [], color='r', marker='o', linestyle='', markersize=7, label='synthetic\\ndefault')\n",
    "lssynth = plt.Line2D([], [], color='b', marker='o', linestyle='', markersize=7, label='synthetic\\nsubject-specific')\n",
    "legend = plt.legend(handles=[lobs, ldsynth, lssynth], loc='lower center',\n",
    "                    columnspacing=0.25, handletextpad=0, handlelength=1.75, fontsize=12,\n",
    "                    bbox_to_anchor=(0.45, 1.0), ncol=3)\n",
    "\n",
    "# save or show\n",
    "plt.tight_layout()\n",
    "plt.show()\n",
    "# plt.savefig('./figures/cross-subject_repertoire_overlap.pdf', additional_artists=[legend], bbox_inches='tight')"
   ]
  },
  {
   "cell_type": "code",
   "execution_count": null,
   "metadata": {},
   "outputs": [],
   "source": []
  }
 ],
 "metadata": {
  "kernelspec": {
   "display_name": "Python 3",
   "language": "python",
   "name": "python3"
  },
  "language_info": {
   "codemirror_mode": {
    "name": "ipython",
    "version": 3
   },
   "file_extension": ".py",
   "mimetype": "text/x-python",
   "name": "python",
   "nbconvert_exporter": "python",
   "pygments_lexer": "ipython3",
   "version": "3.6.4"
  }
 },
 "nbformat": 4,
 "nbformat_minor": 2
}
