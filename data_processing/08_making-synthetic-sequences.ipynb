{
 "cells": [
  {
   "cell_type": "markdown",
   "metadata": {},
   "source": [
    "# Synthetic antibody repertories  \n",
    "  \n",
    "We'll create synthetic Ab repertoires using two approaches. In both cases, we'll generate 10 \"repertoires\", matching the 10 subjects for which we have observed repertorie data. First, we'll generate synthetic sequences using IGoR's default recombination model. The result will be 10 synthetic repertoires derived from the same recombination model. Second, we'll generate synthetic repertoires using the inferred recombination models for each of our 10 subjects.\n",
    "  \n",
    "The following Python packages are required to run this Jupyter Notebook:\n",
    "  * [abutils](https://github.com/briney/abutils)\n",
    "\n",
    "All of the requirements can be installed with `pip install abutils`"
   ]
  },
  {
   "cell_type": "code",
   "execution_count": 1,
   "metadata": {},
   "outputs": [],
   "source": [
    "from __future__ import print_function\n",
    "\n",
    "import multiprocessing as mp\n",
    "import os\n",
    "import shutil\n",
    "import subprocess as sp\n",
    "import sys\n",
    "import time\n",
    "\n",
    "from abutils.utils.jobs import monitor_mp_jobs\n",
    "from abutils.utils.pipeline import list_files, make_dir"
   ]
  },
  {
   "cell_type": "markdown",
   "metadata": {},
   "source": [
    "### User-defined options\n",
    "\n",
    "If you want to create your own synthetic sequences (rather than just look through the code), feel free to modify the options below to suit your needs.\n",
    "\n",
    "  * `num_seqs` is the number of sequences you'd like to synthesize for each subject.\n",
    "  * `num_batches` is the number of synthetic \"repertoires\" you'd like to generate. Multiple repertoires will be generated in parallel.\n",
    "  * `working_dir` is the working directory for IGoR.\n",
    "  * `fasta_dir` is the directory into which the synthetic antibody sequences (in FASTA format) will be written."
   ]
  },
  {
   "cell_type": "code",
   "execution_count": 25,
   "metadata": {},
   "outputs": [],
   "source": [
    "num_seqs = 100000000\n",
    "num_batches = 10\n",
    "\n",
    "working_dir = './data/igor_synthetic_subject-specific-models/'\n",
    "fasta_dir = './data/igor_synthetic_subject-specific-models/fastas'\n",
    "make_dir(fasta_dir)"
   ]
  },
  {
   "cell_type": "code",
   "execution_count": null,
   "metadata": {},
   "outputs": [],
   "source": [
    "subjects = [os.path.basename(f) for f in list_files('./data/subject-specific_models/')]"
   ]
  },
  {
   "cell_type": "markdown",
   "metadata": {},
   "source": [
    "## Generate synthetic sequences\n",
    "\n",
    "The following function generates synthetic sequences with IGoR. Multiple repertoires will be generated in parallel using Python's `multiprocessing` package. When using the default parameters above (100M synthetic sequences), you will need about 100GB of disk space for each repertoire you plan to generate. The final FASTA files (again, assuming the default 100M synthetic sequences) will total approximately 40GB."
   ]
  },
  {
   "cell_type": "code",
   "execution_count": 1,
   "metadata": {},
   "outputs": [],
   "source": [
    "def synthesize_sequences(working_dir, fasta_dir, batch, num_seqs, model_params=None, model_marginals=None):\n",
    "    #assemble the IGoR shell command\n",
    "    igor_cmd = 'igor -set_wd {} -batch {} -species human -chain heavy_naive'.format(working_dir,\n",
    "                                                                                    batch)\n",
    "    if all([model_params is not None, model_marginals is not None]):\n",
    "        igor_cmd += ' -set_custom_model {} {}'.format(model_params, model_marginals)\n",
    "    igor_cmd += ' -generate {} --noerr'.format(num_seqs)\n",
    "    \n",
    "    # run IGoR\n",
    "    synth = sp.Popen(igor_cmd, stdout=sp.PIPE, stderr=sp.PIPE, shell=True)\n",
    "    o, e = synth.communicate()\n",
    "    \n",
    "    # IGoR's output is semicolon-delimited, convert to FASTA\n",
    "    csv_file = os.path.join(working_dir, '{}_generated/generated_seqs_noerr.csv'.format(batch))\n",
    "    fasta_file = os.path.join(fasta_dir, '{}.fasta'.format(batch))\n",
    "    with open(csv_file, 'r') as c:\n",
    "        with open(fasta_file, 'w') as f:\n",
    "            for line in c:\n",
    "                if 'seq_index' in line:\n",
    "                    continue\n",
    "                name, seq = line.strip().split(';')\n",
    "                f.write('>{}\\n{}\\n'.format(name, seq))\n",
    "    shutil.rmtree(os.path.join(working_dir, '{}_generated'.format(batch)))\n",
    "    return o, e"
   ]
  },
  {
   "cell_type": "markdown",
   "metadata": {},
   "source": [
    "### Default recombination model"
   ]
  },
  {
   "cell_type": "code",
   "execution_count": null,
   "metadata": {},
   "outputs": [],
   "source": [
    "async_results = []\n",
    "\n",
    "for subject in subjects:\n",
    "    batch = subject\n",
    "    args = (working_dir, fasta_dir, batch, num_seqs)\n",
    "    async_results.append(p.apply_async(synthesize_sequences, args=args))\n",
    "\n",
    "monitor_mp_jobs(async_results)"
   ]
  },
  {
   "cell_type": "markdown",
   "metadata": {},
   "source": [
    "### Subject-specific recombination models\n",
    "\n",
    "Model files are included in the Github repo, but if you'd like to use alternate model files, update the `model_dir` variable below as needed."
   ]
  },
  {
   "cell_type": "code",
   "execution_count": null,
   "metadata": {},
   "outputs": [],
   "source": [
    "model_dir = './data/subject-specific_models/'\n",
    "async_results = []\n",
    "\n",
    "for subject in subjects:\n",
    "    batch = subject\n",
    "    params = os.path.join(model_dir, '{}/final_parms.txt'.format(subject))\n",
    "    marginals = os.path.join(model_dir, '{}/final_marginals.txt'.format(subject))\n",
    "    args = (working_dir, fasta_dir, batch, num_seqs, params, marginals)\n",
    "    async_results.append(p.apply_async(synthesize_sequences, args=args))\n",
    "    \n",
    "monitor_mp_jobs(async_results)"
   ]
  },
  {
   "cell_type": "code",
   "execution_count": null,
   "metadata": {},
   "outputs": [],
   "source": []
  }
 ],
 "metadata": {
  "kernelspec": {
   "display_name": "Python 3",
   "language": "python",
   "name": "python3"
  },
  "language_info": {
   "codemirror_mode": {
    "name": "ipython",
    "version": 3
   },
   "file_extension": ".py",
   "mimetype": "text/x-python",
   "name": "python",
   "nbconvert_exporter": "python",
   "pygments_lexer": "ipython3",
   "version": "3.6.4"
  }
 },
 "nbformat": 4,
 "nbformat_minor": 2
}
